{
 "cells": [
  {
   "cell_type": "markdown",
   "id": "5a7bb165-b501-4c89-a7c7-2b335d0383fa",
   "metadata": {},
   "source": [
    "### **Exploratory Data Analysis of Street Crime in Camden**\n",
    "\n",
    "#### This notebook will conduct basic Exploratory Data Analysis of street crime in Camden. Analysis will be conducted as follows:\n",
    "\n",
    "1. Setting up notebook and environment\n",
    "2. Preperaing data\n",
    "3. Overview of trends\n",
    "4. METHOD 1\n",
    "5. METHOD 2\n",
    "6. METHOD 3\n",
    "7. CONCLUSION \n",
    "\n",
    "***"
   ]
  },
  {
   "cell_type": "markdown",
   "id": "b3d302a4-a675-4fd6-b0c9-6ee5174c235d",
   "metadata": {},
   "source": [
    "# 1. Set up notebook"
   ]
  },
  {
   "cell_type": "code",
   "execution_count": 10,
   "id": "ecf62843-17d9-48e2-8d3b-5dec27474ccc",
   "metadata": {},
   "outputs": [],
   "source": [
    "# Uncomment and run the below if you are not using CASA environment \n",
    "\n",
    "# pip install"
   ]
  },
  {
   "cell_type": "code",
   "execution_count": 34,
   "id": "bac875f4-84ca-4a3a-9e4e-44eb1d95e981",
   "metadata": {},
   "outputs": [],
   "source": [
    "# Installing packages needed for analysis\n",
    "\n",
    "import pandas as pd\n",
    "import numpy as np\n",
    "import geopandas as gpd\n",
    "import matplotlib.pyplot as plt\n",
    "import os\n",
    "import urllib\n",
    "import zipfile\n",
    "import urllib.request\n",
    "import zipfile\n",
    "import os"
   ]
  },
  {
   "cell_type": "code",
   "execution_count": 4,
   "id": "08be5a76-8c07-4c02-bfc1-538cbbf049df",
   "metadata": {},
   "outputs": [
    {
     "name": "stdout",
     "output_type": "stream",
     "text": [
      "The working directory is /home/jovyan/work/OneDrive/Job/Camden/EDA-Camden-Crime\n"
     ]
    }
   ],
   "source": [
    "# Look at working dir\n",
    "\n",
    "print(\"The working directory is \" + os.getcwd())"
   ]
  },
  {
   "cell_type": "code",
   "execution_count": 5,
   "id": "f64f9d53-4da9-4e3a-8633-251ae576cb24",
   "metadata": {},
   "outputs": [],
   "source": [
    "# Create a folder for data to be downloaded into\n",
    "\n",
    "if os.path.isdir(\"data\") is not True:\n",
    "    print(\"Creating 'Data' directory...\")\n",
    "    os.mkdir(\"data\")"
   ]
  },
  {
   "cell_type": "code",
   "execution_count": 8,
   "id": "cbec70ee-50bb-4866-a2e3-7bb708b798cf",
   "metadata": {},
   "outputs": [],
   "source": [
    "# Create a folder to save figures in \n",
    "\n",
    "if os.path.isdir(\"figures\") is not True:\n",
    "    print(\"Creating 'figures' directory...\")\n",
    "    os.mkdir(\"figures\")"
   ]
  },
  {
   "cell_type": "code",
   "execution_count": 29,
   "id": "11a16de0-2ad3-4e6a-96f5-5ca61430728c",
   "metadata": {},
   "outputs": [
    {
     "name": "stdout",
     "output_type": "stream",
     "text": [
      "Creating 'spatial data' directory...\n"
     ]
    }
   ],
   "source": [
    "# Create a folder to save spatial data in \n",
    "\n",
    "if os.path.isdir(\"spatial data\") is not True:\n",
    "    print(\"Creating 'spatial data' directory...\")\n",
    "    os.mkdir(\"spatial data\")"
   ]
  },
  {
   "cell_type": "code",
   "execution_count": 9,
   "id": "23b9e530-dcdf-4f75-8f05-be0ac330da51",
   "metadata": {},
   "outputs": [],
   "source": [
    "# Define some functions to make investigating data easier\n",
    "\n",
    "# Check if merges havebeen successful\n",
    "\n",
    "def success(olddataframe, newdataframe):\n",
    "    print(f\"There are \" + str(newdataframe.isnull().sum().sum()) + \" NaN values in the data frame\")\n",
    "    print(f\"These NaN values are located in columns: \" + str(newdataframe.columns[newdataframe.isnull().any()].tolist()))\n",
    "    if len(olddataframe) == len(newdataframe):\n",
    "        print(\"Success! The length's are the same\")\n",
    "    else:\n",
    "        print(\"Something is wrong!\")\n",
    "        diff = len(newdataframe)-len(olddataframe)\n",
    "        print(f\"{diff} rows are missing\")\n",
    "        \n",
    "# Check info of a df\n",
    "\n",
    "def infodf(dataframe):\n",
    "    print(f\"There are \"+str(len(dataframe)) + \" rows in the dataframe\")\n",
    "    print(f\"There are \" + str(dataframe.shape[1]) + \" columns in the data frame\")\n",
    "    print(f\"The columns of the dataframe are: \" + str(dataframe.columns))\n",
    "    print(f\"There are \" + str(dataframe.isnull().sum().sum()) + \" NaN values in the data frame\")\n",
    "    print(f\"These NaN values are located in columns: \" + str(dataframe.columns[dataframe.isnull().any()].tolist()))"
   ]
  },
  {
   "cell_type": "markdown",
   "id": "2989f71b-2999-414d-8da7-8e4a9a679213",
   "metadata": {},
   "source": [
    "***\n",
    "# 2. Data preperation\n",
    "## 2.1 Read in data\n",
    "\n",
    "#### Data is read in using the GitHub Repo URL. You can also change to the pathway of project if you have cloned the repo."
   ]
  },
  {
   "cell_type": "code",
   "execution_count": 18,
   "id": "6081320f-727a-47d5-a9fe-57bf3a2d0544",
   "metadata": {},
   "outputs": [
    {
     "name": "stderr",
     "output_type": "stream",
     "text": [
      "/opt/conda/envs/sds2021/lib/python3.9/site-packages/IPython/core/interactiveshell.py:3441: DtypeWarning: Columns (5) have mixed types.Specify dtype option on import or set low_memory=False.\n",
      "  exec(code_obj, self.user_global_ns, self.user_ns)\n"
     ]
    }
   ],
   "source": [
    "# Read in csv data\n",
    "\n",
    "crime = pd.read_csv(\"https://raw.githubusercontent.com/rubyimogenjohnson/EDA-Camden-Crime/main/Data/street_crime_jan20_jan23.csv\")\n",
    "population = pd.read_csv(\"https://raw.githubusercontent.com/rubyimogenjohnson/EDA-Camden-Crime/main/Data/ward_pop_stats.csv\")"
   ]
  },
  {
   "cell_type": "code",
   "execution_count": 37,
   "id": "7669b984-d928-40ec-99d3-8b89f9ad52b6",
   "metadata": {},
   "outputs": [],
   "source": [
    "import urllib.request\n",
    "import zipfile\n",
    "import os\n",
    "\n",
    "url = \"https://github.com/rubyimogenjohnson/EDA-Camden-Crime/blob/main/Data/Wards_(May_2022)_UK_BFC_V2.zip?raw=true\"\n",
    "file_name = \"Wards_(May_2022)_UK_BFC_V2.zip\"\n",
    "dir_name = \"spatial data\"\n",
    "\n",
    "# Create the target directory if it doesn't exist\n",
    "if not os.path.exists(dir_name):\n",
    "    os.makedirs(dir_name)\n",
    "\n",
    "# Download the file from the URL into the target directory\n",
    "urllib.request.urlretrieve(url, os.path.join(dir_name, file_name))\n",
    "\n",
    "# Extract the contents of the ZIP file into the target directory\n",
    "with zipfile.ZipFile(os.path.join(dir_name, file_name), \"r\") as zip_ref:\n",
    "    zip_ref.extractall(dir_name)\n",
    "\n",
    "# The extracted files are now in the target directory\n"
   ]
  },
  {
   "cell_type": "code",
   "execution_count": null,
   "id": "40e08788-8122-4a58-a098-cc71e0c8b73a",
   "metadata": {},
   "outputs": [],
   "source": []
  }
 ],
 "metadata": {
  "kernelspec": {
   "display_name": "Python 3 (ipykernel)",
   "language": "python",
   "name": "python3"
  },
  "language_info": {
   "codemirror_mode": {
    "name": "ipython",
    "version": 3
   },
   "file_extension": ".py",
   "mimetype": "text/x-python",
   "name": "python",
   "nbconvert_exporter": "python",
   "pygments_lexer": "ipython3",
   "version": "3.9.6"
  }
 },
 "nbformat": 4,
 "nbformat_minor": 5
}
